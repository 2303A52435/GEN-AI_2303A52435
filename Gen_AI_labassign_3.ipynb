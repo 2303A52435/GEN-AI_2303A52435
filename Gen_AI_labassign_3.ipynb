{
  "nbformat": 4,
  "nbformat_minor": 0,
  "metadata": {
    "colab": {
      "provenance": [],
      "authorship_tag": "ABX9TyMAZGWMfAvVXRvrVy1omKXp",
      "include_colab_link": true
    },
    "kernelspec": {
      "name": "python3",
      "display_name": "Python 3"
    },
    "language_info": {
      "name": "python"
    }
  },
  "cells": [
    {
      "cell_type": "markdown",
      "metadata": {
        "id": "view-in-github",
        "colab_type": "text"
      },
      "source": [
        "<a href=\"https://colab.research.google.com/github/2303A52435/GEN-AI_2303A52435/blob/main/Gen_AI_labassign_3.ipynb\" target=\"_parent\"><img src=\"https://colab.research.google.com/assets/colab-badge.svg\" alt=\"Open In Colab\"/></a>"
      ]
    },
    {
      "cell_type": "code",
      "execution_count": 1,
      "metadata": {
        "colab": {
          "base_uri": "https://localhost:8080/"
        },
        "id": "wvciXo5GWUbH",
        "outputId": "d4466caa-2fb3-40ae-dab1-48a0b2d848af"
      },
      "outputs": [
        {
          "output_type": "stream",
          "name": "stdout",
          "text": [
            "Minimum value of f(x) is at x = 0.0\n"
          ]
        }
      ],
      "source": [
        "def f(x):\n",
        "    return 5*x*4 + 3*x*2 + 10\n",
        "\n",
        "def df(x):\n",
        "    return 20*x**3 + 6*x\n",
        "\n",
        "x = 0\n",
        "learning_rate = 0.01\n",
        "iterations = 1000\n",
        "\n",
        "for i in range(iterations):\n",
        "    x -= learning_rate * df(x)\n",
        "\n",
        "print(\"Minimum value of f(x) is at x =\", x)"
      ]
    },
    {
      "cell_type": "code",
      "source": [
        "import math\n",
        "\n",
        "def g(x, y):\n",
        "    return 3*x**2 + 5*math.exp(-y) + 10\n",
        "\n",
        "def dg_dx(x, y):\n",
        "    return 6*x\n",
        "\n",
        "def dg_dy(x, y):\n",
        "    return -5*math.exp(-y)\n",
        "\n",
        "x, y = 0, 0\n",
        "learning_rate = 0.01\n",
        "iterations = 1000\n",
        "\n",
        "for i in range(iterations):\n",
        "    x -= learning_rate * dg_dx(x, y)\n",
        "    y -= learning_rate * dg_dy(x, y)\n",
        "\n",
        "print(\"Minimum value of g(x, y) is at x =\", x, \"and y =\", y)"
      ],
      "metadata": {
        "colab": {
          "base_uri": "https://localhost:8080/"
        },
        "id": "H4gr-un8Wc_j",
        "outputId": "043df23b-f6fb-4a7a-f4ac-8876b611abce"
      },
      "execution_count": 7,
      "outputs": [
        {
          "output_type": "stream",
          "name": "stdout",
          "text": [
            "Minimum value of g(x, y) is at x = 0.0 and y = 3.9337602416246904\n"
          ]
        }
      ]
    },
    {
      "cell_type": "code",
      "source": [
        "import math\n",
        "\n",
        "def z(x):\n",
        "    return 1 / (1 + math.exp(-x))\n",
        "\n",
        "def dz(x):\n",
        "    return z(x) * (1 - z(x))\n",
        "\n",
        "x = 0\n",
        "learning_rate = 0.01\n",
        "iterations = 1000\n",
        "\n",
        "for i in range(iterations):\n",
        "    x -= learning_rate * dz(x)\n",
        "\n",
        "print(\"Minimum value of z(x) is at x =\", x)"
      ],
      "metadata": {
        "colab": {
          "base_uri": "https://localhost:8080/"
        },
        "id": "zecPVVXpWsrE",
        "outputId": "3b1b030b-551d-43ee-a860-1da49b987d8a"
      },
      "execution_count": 4,
      "outputs": [
        {
          "output_type": "stream",
          "name": "stdout",
          "text": [
            "Minimum value of z(x) is at x = -1.8618354629020137\n"
          ]
        }
      ]
    },
    {
      "cell_type": "code",
      "source": [
        "input_value = 2\n",
        "expected_output = 0.5\n",
        "\n",
        "M = 0.0\n",
        "C = 0.0\n",
        "\n",
        "learning_rate = 0.01\n",
        "iterations = 1000\n",
        "\n",
        "def compute_square_error(expected, predicted):\n",
        "    return (expected - predicted) ** 2\n",
        "\n",
        "for _ in range(iterations):\n",
        "    predicted_output = M * input_value + C\n",
        "    error = compute_square_error(expected_output, predicted_output)\n",
        "\n",
        "    gradient_M = -2 * input_value * (expected_output - predicted_output)\n",
        "    gradient_C = -2 * (expected_output - predicted_output)\n",
        "\n",
        "    M -= learning_rate * gradient_M\n",
        "    C -= learning_rate * gradient_C\n",
        "\n",
        "print(\"Optimal M:\", M)\n",
        "print(\"Optimal C:\", C)"
      ],
      "metadata": {
        "colab": {
          "base_uri": "https://localhost:8080/"
        },
        "id": "Nfgc42_CWw2u",
        "outputId": "0d637fb3-76c3-4fe4-8162-dd9dea87b3b5"
      },
      "execution_count": 5,
      "outputs": [
        {
          "output_type": "stream",
          "name": "stdout",
          "text": [
            "Optimal M: 0.19999999999999987\n",
            "Optimal C: 0.09999999999999994\n"
          ]
        }
      ]
    }
  ]
}